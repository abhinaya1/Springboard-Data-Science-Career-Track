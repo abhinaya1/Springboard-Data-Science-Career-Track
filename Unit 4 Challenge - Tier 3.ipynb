{
 "cells": [
  {
   "cell_type": "markdown",
   "metadata": {
    "colab_type": "text",
    "id": "Tia3MP1SJpgj"
   },
   "source": [
    "# Springboard Data Science Career Track Unit 4 Challenge - Tier 3 Complete\n",
    "\n",
    "## Objectives\n",
    "Hey! Great job getting through those challenging DataCamp courses. You're learning a lot in a short span of time. \n",
    "\n",
    "In this notebook, you're going to apply the skills you've been learning, bridging the gap between the controlled environment of DataCamp and the *slightly* messier work that data scientists do with actual datasets!\n",
    "\n",
    "Here’s the mystery we’re going to solve: ***which boroughs of London have seen the greatest increase in housing prices, on average, over the last two decades?***\n",
    "\n",
    "\n",
    "A borough is just a fancy word for district. You may be familiar with the five boroughs of New York… well, there are 32 boroughs within Greater London [(here's some info for the curious)](https://en.wikipedia.org/wiki/London_boroughs). Some of them are more desirable areas to live in, and the data will reflect that with a greater rise in housing prices.\n",
    "\n",
    "***This is the Tier 3 notebook, which means it's not filled in at all: we'll just give you the skeleton of a project, the brief and the data. It's up to you to play around with it and see what you can find out! Good luck! If you struggle, feel free to look at easier tiers for help; but try to dip in and out of them, as the more independent work you do, the better it is for your learning!***\n",
    "\n",
    "This challenge will make use of only what you learned in the following DataCamp courses: \n",
    "- Prework courses (Introduction to Python for Data Science, Intermediate Python for Data Science)\n",
    "- Data Types for Data Science\n",
    "- Python Data Science Toolbox (Part One) \n",
    "- pandas Foundations\n",
    "- Manipulating DataFrames with pandas\n",
    "- Merging DataFrames with pandas\n",
    "\n",
    "Of the tools, techniques and concepts in the above DataCamp courses, this challenge should require the application of the following: \n",
    "- **pandas**\n",
    "    - **data ingestion and inspection** (pandas Foundations, Module One) \n",
    "    - **exploratory data analysis** (pandas Foundations, Module Two)\n",
    "    - **tidying and cleaning** (Manipulating DataFrames with pandas, Module Three) \n",
    "    - **transforming DataFrames** (Manipulating DataFrames with pandas, Module One)\n",
    "    - **subsetting DataFrames with lists** (Manipulating DataFrames with pandas, Module One) \n",
    "    - **filtering DataFrames** (Manipulating DataFrames with pandas, Module One) \n",
    "    - **grouping data** (Manipulating DataFrames with pandas, Module Four) \n",
    "    - **melting data** (Manipulating DataFrames with pandas, Module Three) \n",
    "    - **advanced indexing** (Manipulating DataFrames with pandas, Module Four) \n",
    "- **matplotlib** (Intermediate Python for Data Science, Module One)\n",
    "- **fundamental data types** (Data Types for Data Science, Module One) \n",
    "- **dictionaries** (Intermediate Python for Data Science, Module Two)\n",
    "- **handling dates and times** (Data Types for Data Science, Module Four)\n",
    "- **function definition** (Python Data Science Toolbox - Part One, Module One)\n",
    "- **default arguments, variable length, and scope** (Python Data Science Toolbox - Part One, Module Two) \n",
    "- **lambda functions and error handling** (Python Data Science Toolbox - Part One, Module Four) "
   ]
  },
  {
   "cell_type": "markdown",
   "metadata": {
    "colab_type": "text",
    "id": "Ipgd2nV8Jpgl"
   },
   "source": [
    "## The Data Science Pipeline\n",
    "\n",
    "This is Tier Three, so we'll get you started. But after that, it's all in your hands! When you feel done with your investigations, look back over what you've accomplished, and prepare a quick presentation of your findings for the next mentor meeting. \n",
    "\n",
    "Data Science is magical. In this case study, you'll get to apply some complex machine learning algorithms. But as  [David Spiegelhalter](https://www.youtube.com/watch?v=oUs1uvsz0Ok) reminds us, there is no substitute for simply **taking a really, really good look at the data.** Sometimes, this is all we need to answer our question.\n",
    "\n",
    "Data Science projects generally adhere to the four stages of Data Science Pipeline:\n",
    "1. Sourcing and loading \n",
    "2. Cleaning, transforming, and visualizing \n",
    "3. Modeling \n",
    "4. Evaluating and concluding \n"
   ]
  },
  {
   "cell_type": "markdown",
   "metadata": {
    "colab_type": "text",
    "id": "zswDqbefJpgm"
   },
   "source": [
    "### 1. Sourcing and Loading \n",
    "\n",
    "Any Data Science project kicks off by importing  ***pandas***. The documentation of this wonderful library can be found [here](https://pandas.pydata.org/). As you've seen, pandas is conveniently connected to the [Numpy](http://www.numpy.org/) and [Matplotlib](https://matplotlib.org/) libraries. \n",
    "\n",
    "***Hint:*** This part of the data science pipeline will test those skills you acquired in the pandas Foundations course, Module One. "
   ]
  },
  {
   "cell_type": "markdown",
   "metadata": {
    "colab_type": "text",
    "id": "aEau5nEvJpgm"
   },
   "source": [
    "#### 1.1. Importing Libraries"
   ]
  },
  {
   "cell_type": "code",
   "execution_count": 178,
   "metadata": {
    "colab": {},
    "colab_type": "code",
    "id": "7Bt_Q_oPJpgn"
   },
   "outputs": [],
   "source": [
    "# Let's import the pandas, numpy libraries as pd, and np respectively. \n",
    "import pandas as pd\n",
    "import numpy as np\n",
    "\n",
    "# Load the pyplot collection of functions from matplotlib, as plt \n",
    "import matplotlib.pyplot as plt"
   ]
  },
  {
   "cell_type": "markdown",
   "metadata": {
    "colab_type": "text",
    "id": "koUrawxsJpgq"
   },
   "source": [
    "#### 1.2.  Loading the data\n",
    "Your data comes from the [London Datastore](https://data.london.gov.uk/): a free, open-source data-sharing portal for London-oriented datasets. "
   ]
  },
  {
   "cell_type": "code",
   "execution_count": 181,
   "metadata": {
    "colab": {},
    "colab_type": "code",
    "id": "AiLiD4v3Jpgr",
    "scrolled": true
   },
   "outputs": [],
   "source": [
    "# First, make a variable called url_LondonHousePrices, and assign it the following link, enclosed in quotation-marks as a string:\n",
    "# https://data.london.gov.uk/download/uk-house-price-index/70ac0766-8902-4eb5-aab5-01951aaed773/UK%20House%20price%20index.xls\n",
    "import requests\n",
    "from io import BytesIO\n",
    "url_LondonHousePrices = \"https://data.london.gov.uk/download/uk-house-price-index/70ac0766-8902-4eb5-aab5-01951aaed773/UK%20House%20price%20index.xls\"\n",
    "# Set headers to mimic a browser\n",
    "headers = {\n",
    "    \"User-Agent\": \"Mozilla/5.0\"\n",
    "}\n",
    "\n",
    "\n",
    "# Send request and load into memory\n",
    "response = requests.get(url_LondonHousePrices, headers=headers)\n",
    "excel_data = BytesIO(response.content)\n",
    "\n",
    "# The dataset we're interested in contains the Average prices of the houses, and is actually on a particular sheet of the Excel file. \n",
    "# As a result, we need to specify the sheet name in the read_excel() method.\n",
    "# Put this data into a variable called properties.  \n",
    "properties = pd.read_excel(excel_data, sheet_name='Average price', index_col= None)"
   ]
  },
  {
   "cell_type": "markdown",
   "metadata": {
    "colab_type": "text",
    "id": "POukEJXgJpgu"
   },
   "source": [
    "### 2. Cleaning, transforming, and visualizing\n",
    "This second stage is arguably the most important part of any Data Science project. The first thing to do is take a proper look at the data. Cleaning forms the majority of this stage, and can be done both before or after Transformation.\n",
    "\n",
    "The end goal of data cleaning is to have tidy data. When data is tidy: \n",
    "\n",
    "1. Each variable has a column.\n",
    "2. Each observation forms a row.\n",
    "\n",
    "Keep the end goal in mind as you move through this process, every step will take you closer. \n",
    "\n",
    "\n",
    "\n",
    "***Hint:*** This part of the data science pipeline should test those skills you acquired in: \n",
    "- Intermediate Python for data science, all modules.\n",
    "- pandas Foundations, all modules. \n",
    "- Manipulating DataFrames with pandas, all modules.\n",
    "- Data Types for Data Science, Module Four.\n",
    "- Python Data Science Toolbox - Part One, all modules"
   ]
  },
  {
   "cell_type": "markdown",
   "metadata": {
    "colab_type": "text",
    "id": "Te0Q548tnzZa"
   },
   "source": [
    "**2.1. Exploring your data** \n",
    "\n",
    "Think about your pandas functions for checking out a dataframe. "
   ]
  },
  {
   "cell_type": "code",
   "execution_count": 185,
   "metadata": {
    "colab": {},
    "colab_type": "code",
    "id": "Rxirxw_qoAJa"
   },
   "outputs": [
    {
     "name": "stdout",
     "output_type": "stream",
     "text": [
      "  Unnamed: 0 City of London Barking & Dagenham     Barnet     Bexley  \\\n",
      "0        NaT      E09000001          E09000002  E09000003  E09000004   \n",
      "1 1995-01-01          90347              51870      98948      64956   \n",
      "2 1995-02-01          81213              52513      98848      64786   \n",
      "3 1995-03-01          78168              52701      97848      64366   \n",
      "4 1995-04-01          76172              54618      96273      64276   \n",
      "\n",
      "       Brent    Bromley     Camden    Croydon     Ealing  ... NORTH WEST  \\\n",
      "0  E09000005  E09000006  E09000007  E09000008  E09000009  ...  E12000002   \n",
      "1      76880      83082     119775      70118      85469  ...      40907   \n",
      "2      77651      83068     118365      69908      86551  ...      40877   \n",
      "3      77644      82856     119131      69666      87067  ...      41351   \n",
      "4      78668      82525     118948      69562      87933  ...      41195   \n",
      "\n",
      "  YORKS & THE HUMBER EAST MIDLANDS WEST MIDLANDS EAST OF ENGLAND     LONDON  \\\n",
      "0          E12000003     E12000004     E12000005       E12000006  E12000007   \n",
      "1              42171         43856         46470           56098      79687   \n",
      "2              41912         44344         47249           55991      77913   \n",
      "3              42544         43701         47345           55574      79110   \n",
      "4              42934         44414         47359           55966      79708   \n",
      "\n",
      "  SOUTH EAST SOUTH WEST Unnamed: 47    England  \n",
      "0  E12000008  E12000009         NaN  E92000001  \n",
      "1      64502      52799         NaN      50231  \n",
      "2      64196      52462         NaN      50130  \n",
      "3      64597      51716         NaN      50229  \n",
      "4      65111      52877         NaN      50597  \n",
      "\n",
      "[5 rows x 49 columns]\n"
     ]
    }
   ],
   "source": [
    "print(properties.head())"
   ]
  },
  {
   "cell_type": "markdown",
   "metadata": {
    "colab_type": "text",
    "id": "tE9Sqt9-oAta"
   },
   "source": [
    "**2.2. Cleaning the data**\n",
    "\n",
    "You might find you need to transpose your dataframe, check out what its row indexes are, and reset the index. You  also might find you need to assign the values of the first row to your column headings  . (Hint: recall the .columns feature of DataFrames, as well as the iloc[] method).\n",
    "\n",
    "Don't be afraid to use StackOverflow for help  with this."
   ]
  },
  {
   "cell_type": "code",
   "execution_count": 188,
   "metadata": {
    "colab": {},
    "colab_type": "code",
    "id": "cdAu1A3YoH_r"
   },
   "outputs": [
    {
     "name": "stdout",
     "output_type": "stream",
     "text": [
      "0          Unnamed: 0        NaT  1995-01-01 00:00:00  1995-02-01 00:00:00  \\\n",
      "0          Unnamed: 0        NaT  1995-01-01 00:00:00  1995-02-01 00:00:00   \n",
      "1      City of London  E09000001                90347                81213   \n",
      "2  Barking & Dagenham  E09000002                51870                52513   \n",
      "3              Barnet  E09000003                98948                98848   \n",
      "4              Bexley  E09000004                64956                64786   \n",
      "\n",
      "0  1995-03-01 00:00:00  1995-04-01 00:00:00  1995-05-01 00:00:00  \\\n",
      "0  1995-03-01 00:00:00  1995-04-01 00:00:00  1995-05-01 00:00:00   \n",
      "1                78168                76172                83392   \n",
      "2                52701                54618                54524   \n",
      "3                97848                96273                95737   \n",
      "4                64366                64276                63995   \n",
      "\n",
      "0  1995-06-01 00:00:00  1995-07-01 00:00:00  1995-08-01 00:00:00  ...  \\\n",
      "0  1995-06-01 00:00:00  1995-07-01 00:00:00  1995-08-01 00:00:00  ...   \n",
      "1                93757               108801               110976  ...   \n",
      "2                55200                53569                53691  ...   \n",
      "3                95577                96992                97968  ...   \n",
      "4                64251                63721                64431  ...   \n",
      "\n",
      "0  2024-04-01 00:00:00  2024-05-01 00:00:00  2024-06-01 00:00:00  \\\n",
      "0  2024-04-01 00:00:00  2024-05-01 00:00:00  2024-06-01 00:00:00   \n",
      "1               906682               890881               821191   \n",
      "2               344029               342471               337468   \n",
      "3               610143               617515               619324   \n",
      "4               396790               395029               399510   \n",
      "\n",
      "0  2024-07-01 00:00:00  2024-08-01 00:00:00  2024-09-01 00:00:00  \\\n",
      "0  2024-07-01 00:00:00  2024-08-01 00:00:00  2024-09-01 00:00:00   \n",
      "1               749029               727214               715165   \n",
      "2               332788               325557               330914   \n",
      "3               623551               628124               625854   \n",
      "4               398542               404304               406573   \n",
      "\n",
      "0  2024-10-01 00:00:00  2024-11-01 00:00:00  2024-12-01 00:00:00  \\\n",
      "0  2024-10-01 00:00:00  2024-11-01 00:00:00  2024-12-01 00:00:00   \n",
      "1               698786               698826               811537   \n",
      "2               344488               356482               355385   \n",
      "3               626818               628529               623055   \n",
      "4               409095               406993               404921   \n",
      "\n",
      "0  2025-01-01 00:00:00  \n",
      "0  2025-01-01 00:00:00  \n",
      "1               832241  \n",
      "2               353442  \n",
      "3               613205  \n",
      "4               406363  \n",
      "\n",
      "[5 rows x 363 columns]\n"
     ]
    }
   ],
   "source": [
    "properties=properties.transpose()\n",
    "properties= properties.reset_index()\n",
    "properties.columns=properties.iloc[0]\n",
    "print(properties.head())\n"
   ]
  },
  {
   "cell_type": "markdown",
   "metadata": {
    "colab_type": "text",
    "id": "o1uLbJAsoIjK"
   },
   "source": [
    "**2.3. Cleaning the data (part 2)**\n",
    "\n",
    "You might we have to **rename** a couple columns. How do you do this? The clue's pretty bold..."
   ]
  },
  {
   "cell_type": "code",
   "execution_count": 191,
   "metadata": {
    "colab": {},
    "colab_type": "code",
    "id": "GKkmn1AnoVZS"
   },
   "outputs": [
    {
     "name": "stdout",
     "output_type": "stream",
     "text": [
      "0             Borough   ONC Code 1995-01-01 00:00:00 1995-02-01 00:00:00  \\\n",
      "1      City of London  E09000001               90347               81213   \n",
      "2  Barking & Dagenham  E09000002               51870               52513   \n",
      "3              Barnet  E09000003               98948               98848   \n",
      "4              Bexley  E09000004               64956               64786   \n",
      "5               Brent  E09000005               76880               77651   \n",
      "\n",
      "0 1995-03-01 00:00:00 1995-04-01 00:00:00 1995-05-01 00:00:00  \\\n",
      "1               78168               76172               83392   \n",
      "2               52701               54618               54524   \n",
      "3               97848               96273               95737   \n",
      "4               64366               64276               63995   \n",
      "5               77644               78668               79464   \n",
      "\n",
      "0 1995-06-01 00:00:00 1995-07-01 00:00:00 1995-08-01 00:00:00  ...  \\\n",
      "1               93757              108801              110976  ...   \n",
      "2               55200               53569               53691  ...   \n",
      "3               95577               96992               97968  ...   \n",
      "4               64251               63721               64431  ...   \n",
      "5               80118               79920               79295  ...   \n",
      "\n",
      "0 2024-04-01 00:00:00 2024-05-01 00:00:00 2024-06-01 00:00:00  \\\n",
      "1              906682              890881              821191   \n",
      "2              344029              342471              337468   \n",
      "3              610143              617515              619324   \n",
      "4              396790              395029              399510   \n",
      "5              541329              539206              566566   \n",
      "\n",
      "0 2024-07-01 00:00:00 2024-08-01 00:00:00 2024-09-01 00:00:00  \\\n",
      "1              749029              727214              715165   \n",
      "2              332788              325557              330914   \n",
      "3              623551              628124              625854   \n",
      "4              398542              404304              406573   \n",
      "5              569031              581099              585990   \n",
      "\n",
      "0 2024-10-01 00:00:00 2024-11-01 00:00:00 2024-12-01 00:00:00  \\\n",
      "1              698786              698826              811537   \n",
      "2              344488              356482              355385   \n",
      "3              626818              628529              623055   \n",
      "4              409095              406993              404921   \n",
      "5              595453              594264              573146   \n",
      "\n",
      "0 2025-01-01 00:00:00  \n",
      "1              832241  \n",
      "2              353442  \n",
      "3              613205  \n",
      "4              406363  \n",
      "5              576271  \n",
      "\n",
      "[5 rows x 363 columns]\n"
     ]
    }
   ],
   "source": [
    "properties.rename(columns={\"Unnamed: 0\": \"Borough\"},inplace=True)\n",
    "properties.rename(columns={pd.NaT: 'ONC Code'}, inplace=True)\n",
    "properties = properties[1:]\n",
    "print(properties.head())"
   ]
  },
  {
   "cell_type": "markdown",
   "metadata": {
    "colab_type": "text",
    "id": "jy8BzXHmoWEw"
   },
   "source": [
    "**2.4.Transforming the data**\n",
    "\n",
    "Remember what Wes McKinney said about tidy data? \n",
    "\n",
    "You might need to **melt** your DataFrame here. "
   ]
  },
  {
   "cell_type": "code",
   "execution_count": 194,
   "metadata": {
    "colab": {},
    "colab_type": "code",
    "id": "S2wM0qLuo2Zt"
   },
   "outputs": [
    {
     "data": {
      "text/html": [
       "<div>\n",
       "<style scoped>\n",
       "    .dataframe tbody tr th:only-of-type {\n",
       "        vertical-align: middle;\n",
       "    }\n",
       "\n",
       "    .dataframe tbody tr th {\n",
       "        vertical-align: top;\n",
       "    }\n",
       "\n",
       "    .dataframe thead th {\n",
       "        text-align: right;\n",
       "    }\n",
       "</style>\n",
       "<table border=\"1\" class=\"dataframe\">\n",
       "  <thead>\n",
       "    <tr style=\"text-align: right;\">\n",
       "      <th></th>\n",
       "      <th>Borough</th>\n",
       "      <th>ONC Code</th>\n",
       "      <th>date</th>\n",
       "      <th>Average Price</th>\n",
       "    </tr>\n",
       "  </thead>\n",
       "  <tbody>\n",
       "    <tr>\n",
       "      <th>17308</th>\n",
       "      <td>Sutton</td>\n",
       "      <td>E09000029</td>\n",
       "      <td>2025-01-01 00:00:00</td>\n",
       "      <td>447429</td>\n",
       "    </tr>\n",
       "    <tr>\n",
       "      <th>17309</th>\n",
       "      <td>Tower Hamlets</td>\n",
       "      <td>E09000030</td>\n",
       "      <td>2025-01-01 00:00:00</td>\n",
       "      <td>502844</td>\n",
       "    </tr>\n",
       "    <tr>\n",
       "      <th>17310</th>\n",
       "      <td>Waltham Forest</td>\n",
       "      <td>E09000031</td>\n",
       "      <td>2025-01-01 00:00:00</td>\n",
       "      <td>522549</td>\n",
       "    </tr>\n",
       "    <tr>\n",
       "      <th>17311</th>\n",
       "      <td>Wandsworth</td>\n",
       "      <td>E09000032</td>\n",
       "      <td>2025-01-01 00:00:00</td>\n",
       "      <td>696365</td>\n",
       "    </tr>\n",
       "    <tr>\n",
       "      <th>17312</th>\n",
       "      <td>Westminster</td>\n",
       "      <td>E09000033</td>\n",
       "      <td>2025-01-01 00:00:00</td>\n",
       "      <td>899697</td>\n",
       "    </tr>\n",
       "    <tr>\n",
       "      <th>17313</th>\n",
       "      <td>Unnamed: 34</td>\n",
       "      <td>NaN</td>\n",
       "      <td>2025-01-01 00:00:00</td>\n",
       "      <td>NaN</td>\n",
       "    </tr>\n",
       "    <tr>\n",
       "      <th>17314</th>\n",
       "      <td>Inner London</td>\n",
       "      <td>E13000001</td>\n",
       "      <td>2025-01-01 00:00:00</td>\n",
       "      <td>636281</td>\n",
       "    </tr>\n",
       "    <tr>\n",
       "      <th>17315</th>\n",
       "      <td>Outer London</td>\n",
       "      <td>E13000002</td>\n",
       "      <td>2025-01-01 00:00:00</td>\n",
       "      <td>509562</td>\n",
       "    </tr>\n",
       "    <tr>\n",
       "      <th>17316</th>\n",
       "      <td>Unnamed: 37</td>\n",
       "      <td>NaN</td>\n",
       "      <td>2025-01-01 00:00:00</td>\n",
       "      <td>NaN</td>\n",
       "    </tr>\n",
       "    <tr>\n",
       "      <th>17317</th>\n",
       "      <td>NORTH EAST</td>\n",
       "      <td>E12000001</td>\n",
       "      <td>2025-01-01 00:00:00</td>\n",
       "      <td>161373</td>\n",
       "    </tr>\n",
       "    <tr>\n",
       "      <th>17318</th>\n",
       "      <td>NORTH WEST</td>\n",
       "      <td>E12000002</td>\n",
       "      <td>2025-01-01 00:00:00</td>\n",
       "      <td>210259</td>\n",
       "    </tr>\n",
       "    <tr>\n",
       "      <th>17319</th>\n",
       "      <td>YORKS &amp; THE HUMBER</td>\n",
       "      <td>E12000003</td>\n",
       "      <td>2025-01-01 00:00:00</td>\n",
       "      <td>202930</td>\n",
       "    </tr>\n",
       "    <tr>\n",
       "      <th>17320</th>\n",
       "      <td>EAST MIDLANDS</td>\n",
       "      <td>E12000004</td>\n",
       "      <td>2025-01-01 00:00:00</td>\n",
       "      <td>241159</td>\n",
       "    </tr>\n",
       "    <tr>\n",
       "      <th>17321</th>\n",
       "      <td>WEST MIDLANDS</td>\n",
       "      <td>E12000005</td>\n",
       "      <td>2025-01-01 00:00:00</td>\n",
       "      <td>244589</td>\n",
       "    </tr>\n",
       "    <tr>\n",
       "      <th>17322</th>\n",
       "      <td>EAST OF ENGLAND</td>\n",
       "      <td>E12000006</td>\n",
       "      <td>2025-01-01 00:00:00</td>\n",
       "      <td>338657</td>\n",
       "    </tr>\n",
       "    <tr>\n",
       "      <th>17323</th>\n",
       "      <td>LONDON</td>\n",
       "      <td>E12000007</td>\n",
       "      <td>2025-01-01 00:00:00</td>\n",
       "      <td>563899</td>\n",
       "    </tr>\n",
       "    <tr>\n",
       "      <th>17324</th>\n",
       "      <td>SOUTH EAST</td>\n",
       "      <td>E12000008</td>\n",
       "      <td>2025-01-01 00:00:00</td>\n",
       "      <td>386103</td>\n",
       "    </tr>\n",
       "    <tr>\n",
       "      <th>17325</th>\n",
       "      <td>SOUTH WEST</td>\n",
       "      <td>E12000009</td>\n",
       "      <td>2025-01-01 00:00:00</td>\n",
       "      <td>307233</td>\n",
       "    </tr>\n",
       "    <tr>\n",
       "      <th>17326</th>\n",
       "      <td>Unnamed: 47</td>\n",
       "      <td>NaN</td>\n",
       "      <td>2025-01-01 00:00:00</td>\n",
       "      <td>NaN</td>\n",
       "    </tr>\n",
       "    <tr>\n",
       "      <th>17327</th>\n",
       "      <td>England</td>\n",
       "      <td>E92000001</td>\n",
       "      <td>2025-01-01 00:00:00</td>\n",
       "      <td>291397</td>\n",
       "    </tr>\n",
       "  </tbody>\n",
       "</table>\n",
       "</div>"
      ],
      "text/plain": [
       "                  Borough   ONC Code                 date Average Price\n",
       "17308              Sutton  E09000029  2025-01-01 00:00:00        447429\n",
       "17309       Tower Hamlets  E09000030  2025-01-01 00:00:00        502844\n",
       "17310      Waltham Forest  E09000031  2025-01-01 00:00:00        522549\n",
       "17311          Wandsworth  E09000032  2025-01-01 00:00:00        696365\n",
       "17312         Westminster  E09000033  2025-01-01 00:00:00        899697\n",
       "17313         Unnamed: 34        NaN  2025-01-01 00:00:00           NaN\n",
       "17314        Inner London  E13000001  2025-01-01 00:00:00        636281\n",
       "17315        Outer London  E13000002  2025-01-01 00:00:00        509562\n",
       "17316         Unnamed: 37        NaN  2025-01-01 00:00:00           NaN\n",
       "17317          NORTH EAST  E12000001  2025-01-01 00:00:00        161373\n",
       "17318          NORTH WEST  E12000002  2025-01-01 00:00:00        210259\n",
       "17319  YORKS & THE HUMBER  E12000003  2025-01-01 00:00:00        202930\n",
       "17320       EAST MIDLANDS  E12000004  2025-01-01 00:00:00        241159\n",
       "17321       WEST MIDLANDS  E12000005  2025-01-01 00:00:00        244589\n",
       "17322     EAST OF ENGLAND  E12000006  2025-01-01 00:00:00        338657\n",
       "17323              LONDON  E12000007  2025-01-01 00:00:00        563899\n",
       "17324          SOUTH EAST  E12000008  2025-01-01 00:00:00        386103\n",
       "17325          SOUTH WEST  E12000009  2025-01-01 00:00:00        307233\n",
       "17326         Unnamed: 47        NaN  2025-01-01 00:00:00           NaN\n",
       "17327             England  E92000001  2025-01-01 00:00:00        291397"
      ]
     },
     "execution_count": 194,
     "metadata": {},
     "output_type": "execute_result"
    }
   ],
   "source": [
    "properties_melted = properties.melt(id_vars=['Borough','ONC Code'], var_name='date', value_name='Average Price')\n",
    "properties_melted.tail(20)"
   ]
  },
  {
   "cell_type": "markdown",
   "metadata": {
    "colab_type": "text",
    "id": "7kIsgAo7o3mf"
   },
   "source": [
    "Remember to make sure your column data types are all correct. Average prices, for example, should be floating point numbers... "
   ]
  },
  {
   "cell_type": "code",
   "execution_count": 197,
   "metadata": {
    "colab": {},
    "colab_type": "code",
    "id": "ZcR4IHbcpOaq"
   },
   "outputs": [
    {
     "data": {
      "text/plain": [
       "Borough          string[python]\n",
       "ONC Code         string[python]\n",
       "date             datetime64[ns]\n",
       "Average Price           float64\n",
       "dtype: object"
      ]
     },
     "execution_count": 197,
     "metadata": {},
     "output_type": "execute_result"
    }
   ],
   "source": [
    "properties_melted['Borough'] = properties_melted['Borough'].astype('string')\n",
    "properties_melted['ONC Code'] = properties_melted['ONC Code'].astype('string')\n",
    "properties_melted['date'] = pd.to_datetime(properties_melted['date'])\n",
    "properties_melted['Average Price'] = properties_melted['Average Price'].astype('float64')\n",
    "properties_melted.dtypes\n"
   ]
  },
  {
   "cell_type": "markdown",
   "metadata": {
    "colab_type": "text",
    "id": "knLUXHLypOtw"
   },
   "source": [
    "**2.5. Cleaning the data (part 3)**\n",
    "\n",
    "Do we have an equal number of observations in the ID, Average Price, Month, and London Borough columns? Remember that there are only 32 London Boroughs. How many entries do you have in that column? \n",
    "\n",
    "Check out the contents of the London Borough column, and if you find null values, get rid of them however you see fit. "
   ]
  },
  {
   "cell_type": "code",
   "execution_count": 200,
   "metadata": {
    "colab": {},
    "colab_type": "code",
    "id": "BnvTW5a3p0fC"
   },
   "outputs": [
    {
     "name": "stdout",
     "output_type": "stream",
     "text": [
      "16245\n",
      "16245\n",
      "16245\n",
      "16245\n"
     ]
    }
   ],
   "source": [
    "properties_melted= properties_melted[~properties_melted['Borough'].str.contains(\"Unnamed\", na=False)]\n",
    "print(len(properties_melted['Borough']))\n",
    "print(len(properties_melted['Average Price']))\n",
    "print(len(properties_melted['date']))\n",
    "print(len(properties_melted['ONC Code']))\n"
   ]
  },
  {
   "cell_type": "markdown",
   "metadata": {
    "colab_type": "text",
    "id": "PGEx6mJsp6dG"
   },
   "source": [
    "**2.6. Visualizing the data**\n",
    "\n",
    "To visualize the data, why not subset on a particular London Borough? Maybe do a line plot of Month against Average Price?"
   ]
  },
  {
   "cell_type": "code",
   "execution_count": 203,
   "metadata": {
    "colab": {},
    "colab_type": "code",
    "id": "nAg5pT9cqHAR"
   },
   "outputs": [
    {
     "data": {
      "image/png": "[encoded data removed]",
      "text/plain": [
       "<Figure size 640x480 with 1 Axes>"
      ]
     },
     "metadata": {},
     "output_type": "display_data"
    }
   ],
   "source": [
    "filtered_borough = properties_melted[properties_melted['Borough'].str.contains(\"City of London\", na=False)]\n",
    "filtered_borough.plot(x='date', y='Average Price', kind='line', marker='o', title='Line Plot of Average Price vs. Date')\n",
    "plt.xlabel('date')\n",
    "plt.ylabel('Average Price')\n",
    "plt.show()"
   ]
  },
  {
   "cell_type": "markdown",
   "metadata": {
    "colab_type": "text",
    "id": "aWTPqSJeqHnC"
   },
   "source": [
    "To limit the number of data points you have, you might want to extract the year from every month value your *Month* column. \n",
    "\n",
    "To this end, you *could* apply a ***lambda function***. Your logic could work as follows:\n",
    "1. look through the `Month` column\n",
    "2. extract the year from each individual value in that column \n",
    "3. store that corresponding year as separate column. \n",
    "\n",
    "Whether you go ahead with this is up to you. Just so long as you answer our initial brief: which boroughs of London have seen the greatest house price increase, on average, over the past two decades? "
   ]
  },
  {
   "cell_type": "code",
   "execution_count": 206,
   "metadata": {
    "colab": {},
    "colab_type": "code",
    "id": "e0DF92cyqnu8"
   },
   "outputs": [
    {
     "data": {
      "text/html": [
       "<div>\n",
       "<style scoped>\n",
       "    .dataframe tbody tr th:only-of-type {\n",
       "        vertical-align: middle;\n",
       "    }\n",
       "\n",
       "    .dataframe tbody tr th {\n",
       "        vertical-align: top;\n",
       "    }\n",
       "\n",
       "    .dataframe thead th {\n",
       "        text-align: right;\n",
       "    }\n",
       "</style>\n",
       "<table border=\"1\" class=\"dataframe\">\n",
       "  <thead>\n",
       "    <tr style=\"text-align: right;\">\n",
       "      <th></th>\n",
       "      <th>Borough</th>\n",
       "      <th>ONC Code</th>\n",
       "      <th>date</th>\n",
       "      <th>Average Price</th>\n",
       "      <th>year</th>\n",
       "    </tr>\n",
       "  </thead>\n",
       "  <tbody>\n",
       "    <tr>\n",
       "      <th>0</th>\n",
       "      <td>City of London</td>\n",
       "      <td>E09000001</td>\n",
       "      <td>1995-01-01</td>\n",
       "      <td>90347.0</td>\n",
       "      <td>1995</td>\n",
       "    </tr>\n",
       "    <tr>\n",
       "      <th>1</th>\n",
       "      <td>Barking &amp; Dagenham</td>\n",
       "      <td>E09000002</td>\n",
       "      <td>1995-01-01</td>\n",
       "      <td>51870.0</td>\n",
       "      <td>1995</td>\n",
       "    </tr>\n",
       "    <tr>\n",
       "      <th>2</th>\n",
       "      <td>Barnet</td>\n",
       "      <td>E09000003</td>\n",
       "      <td>1995-01-01</td>\n",
       "      <td>98948.0</td>\n",
       "      <td>1995</td>\n",
       "    </tr>\n",
       "    <tr>\n",
       "      <th>3</th>\n",
       "      <td>Bexley</td>\n",
       "      <td>E09000004</td>\n",
       "      <td>1995-01-01</td>\n",
       "      <td>64956.0</td>\n",
       "      <td>1995</td>\n",
       "    </tr>\n",
       "    <tr>\n",
       "      <th>4</th>\n",
       "      <td>Brent</td>\n",
       "      <td>E09000005</td>\n",
       "      <td>1995-01-01</td>\n",
       "      <td>76880.0</td>\n",
       "      <td>1995</td>\n",
       "    </tr>\n",
       "  </tbody>\n",
       "</table>\n",
       "</div>"
      ],
      "text/plain": [
       "              Borough   ONC Code       date  Average Price  year\n",
       "0      City of London  E09000001 1995-01-01        90347.0  1995\n",
       "1  Barking & Dagenham  E09000002 1995-01-01        51870.0  1995\n",
       "2              Barnet  E09000003 1995-01-01        98948.0  1995\n",
       "3              Bexley  E09000004 1995-01-01        64956.0  1995\n",
       "4               Brent  E09000005 1995-01-01        76880.0  1995"
      ]
     },
     "execution_count": 206,
     "metadata": {},
     "output_type": "execute_result"
    }
   ],
   "source": [
    "#seperating year from the date column and store it in another column\n",
    "properties_melted[\"year\"]= properties_melted['date'].dt.year\n",
    "properties_melted.head()"
   ]
  },
  {
   "cell_type": "code",
   "execution_count": 208,
   "metadata": {},
   "outputs": [
    {
     "data": {
      "image/png": "[encoded data removed]",
      "text/plain": [
       "<Figure size 640x480 with 1 Axes>"
      ]
     },
     "metadata": {},
     "output_type": "display_data"
    }
   ],
   "source": [
    "#plot with just a year value without month and day\n",
    "filtered_borough = properties_melted[properties_melted['Borough'].str.contains(\"City of London\", na=False)]\n",
    "filtered_borough.plot(x='year', y='Average Price', kind='line', marker='o', title='Line Plot of Average Price vs. year')\n",
    "plt.xlabel('year')\n",
    "plt.ylabel('Average Price')\n",
    "plt.show()"
   ]
  },
  {
   "cell_type": "markdown",
   "metadata": {
    "colab_type": "text",
    "id": "2knuTxAEqoJ4"
   },
   "source": [
    "**3. Modeling**\n",
    "\n",
    "Consider creating a function that will calculate a ratio of house prices, comparing the price of a house in 2018 to the price in 1998.\n",
    "\n",
    "Consider calling this function create_price_ratio.\n",
    "\n",
    "You'd want this function to:\n",
    "1. Take a filter of dfg, specifically where this filter constrains the London_Borough, as an argument. For example, one admissible argument should be: dfg[dfg['London_Borough']=='Camden'].\n",
    "2. Get the Average Price for that Borough, for the years 1998 and 2018.\n",
    "4. Calculate the ratio of the Average Price for 1998 divided by the Average Price for 2018.\n",
    "5. Return that ratio.\n",
    "\n",
    "Once you've written this function, you ultimately want to use it to iterate through all the unique London_Boroughs and work out the ratio capturing the difference of house prices between 1998 and 2018.\n",
    "\n",
    "Bear in mind: you don't have to write a function like this if you don't want to. If you can solve the brief otherwise, then great! \n",
    "\n",
    "***Hint***: This section should test the skills you acquired in:\n",
    "- Python Data Science Toolbox - Part One, all modules"
   ]
  },
  {
   "cell_type": "code",
   "execution_count": 211,
   "metadata": {
    "colab": {},
    "colab_type": "code",
    "id": "cKTyr437UgDa"
   },
   "outputs": [
    {
     "name": "stdout",
     "output_type": "stream",
     "text": [
      "least rise in housing price is in NORTH EAST : 1.5570099599130856\n",
      "maximum rise in housing price is in Hackney : 2.7025437052385564\n"
     ]
    }
   ],
   "source": [
    "#function to calculate ratio of average price in 2004 and 2024 for each boroughs\n",
    "def create_price_ratio(name_borough):\n",
    "    df_borough=properties_melted[properties_melted['Borough']==name_borough]\n",
    "    df_bor_2004=df_borough[df_borough['date'].dt.year==2004]\n",
    "    df_bor_2024=df_borough[df_borough['date'].dt.year==2024]\n",
    "    avg_2004=df_bor_2004['Average Price'].mean()\n",
    "    avg_2024=df_bor_2024['Average Price'].mean()\n",
    "    ratio=avg_2024/avg_2004\n",
    "    return ratio\n",
    "\n",
    "#each unique borough is added in boroughs_list\n",
    "boroughs_list=properties_melted['Borough'].unique()\n",
    "\n",
    "#create an emply dictionary to add ratio for each borough\n",
    "avg_ratios_2004_2024={}\n",
    "for borough in boroughs_list:\n",
    "    avg_ratios_2004_2024[borough]=create_price_ratio(borough)\n",
    "    \n",
    "# Find the key with the maximum and minimumn value\n",
    "min_key = min(avg_ratios_2004_2024, key=avg_ratios_2004_2024.get)\n",
    "max_key = max(avg_ratios_2004_2024, key=avg_ratios_2004_2024.get)\n",
    "# Retrieve the maximum value\n",
    "min_value = avg_ratios_2004_2024[min_key]\n",
    "max_value = avg_ratios_2004_2024[max_key]\n",
    "print(\"least rise in housing price is in\",min_key,\":\",min_value)\n",
    "print(\"maximum rise in housing price is in\",max_key,\":\",max_value)"
   ]
  },
  {
   "cell_type": "code",
   "execution_count": 213,
   "metadata": {},
   "outputs": [
    {
     "name": "stdout",
     "output_type": "stream",
     "text": [
      "   City of London  Barking & Dagenham    Barnet   Bexley     Brent   Bromley  \\\n",
      "0        2.693745            2.094519  2.143511  2.23505  2.233564  2.096867   \n",
      "\n",
      "     Camden   Croydon    Ealing   Enfield  ...  NORTH EAST  NORTH WEST  \\\n",
      "0  2.401683  1.987172  2.207502  2.131029  ...     1.55701    1.988322   \n",
      "\n",
      "   YORKS & THE HUMBER  EAST MIDLANDS  WEST MIDLANDS  EAST OF ENGLAND  \\\n",
      "0            1.895598       1.861143       1.850453         1.980621   \n",
      "\n",
      "     LONDON  SOUTH EAST  SOUTH WEST   England  \n",
      "0  2.266178    1.945348     1.83818  1.977109  \n",
      "\n",
      "[1 rows x 45 columns]\n"
     ]
    }
   ],
   "source": [
    "# Make a variable called df_ratios, and assign it the result of calling the DataFrame method on the dictionary avg_ratios_2004_2024. \n",
    "df_ratios = pd.DataFrame({key: [value] for key, value in avg_ratios_2004_2024.items()})\n",
    "print(df_ratios)"
   ]
  },
  {
   "cell_type": "code",
   "execution_count": 104,
   "metadata": {},
   "outputs": [
    {
     "data": {
      "text/html": [
       "<div>\n",
       "<style scoped>\n",
       "    .dataframe tbody tr th:only-of-type {\n",
       "        vertical-align: middle;\n",
       "    }\n",
       "\n",
       "    .dataframe tbody tr th {\n",
       "        vertical-align: top;\n",
       "    }\n",
       "\n",
       "    .dataframe thead th {\n",
       "        text-align: right;\n",
       "    }\n",
       "</style>\n",
       "<table border=\"1\" class=\"dataframe\">\n",
       "  <thead>\n",
       "    <tr style=\"text-align: right;\">\n",
       "      <th></th>\n",
       "      <th>index</th>\n",
       "      <th>0</th>\n",
       "    </tr>\n",
       "  </thead>\n",
       "  <tbody>\n",
       "    <tr>\n",
       "      <th>0</th>\n",
       "      <td>City of London</td>\n",
       "      <td>2.693745</td>\n",
       "    </tr>\n",
       "    <tr>\n",
       "      <th>1</th>\n",
       "      <td>Barking &amp; Dagenham</td>\n",
       "      <td>2.094519</td>\n",
       "    </tr>\n",
       "    <tr>\n",
       "      <th>2</th>\n",
       "      <td>Barnet</td>\n",
       "      <td>2.143511</td>\n",
       "    </tr>\n",
       "    <tr>\n",
       "      <th>3</th>\n",
       "      <td>Bexley</td>\n",
       "      <td>2.235050</td>\n",
       "    </tr>\n",
       "    <tr>\n",
       "      <th>4</th>\n",
       "      <td>Brent</td>\n",
       "      <td>2.233564</td>\n",
       "    </tr>\n",
       "  </tbody>\n",
       "</table>\n",
       "</div>"
      ],
      "text/plain": [
       "                index         0\n",
       "0      City of London  2.693745\n",
       "1  Barking & Dagenham  2.094519\n",
       "2              Barnet  2.143511\n",
       "3              Bexley  2.235050\n",
       "4               Brent  2.233564"
      ]
     },
     "execution_count": 104,
     "metadata": {},
     "output_type": "execute_result"
    }
   ],
   "source": [
    "# All we need to do now is transpose it, and reset the index! \n",
    "df_ratios_T = df_ratios.T\n",
    "df_ratios = df_ratios_T.reset_index()\n",
    "df_ratios.head()"
   ]
  },
  {
   "cell_type": "code",
   "execution_count": 110,
   "metadata": {},
   "outputs": [
    {
     "data": {
      "text/html": [
       "<div>\n",
       "<style scoped>\n",
       "    .dataframe tbody tr th:only-of-type {\n",
       "        vertical-align: middle;\n",
       "    }\n",
       "\n",
       "    .dataframe tbody tr th {\n",
       "        vertical-align: top;\n",
       "    }\n",
       "\n",
       "    .dataframe thead th {\n",
       "        text-align: right;\n",
       "    }\n",
       "</style>\n",
       "<table border=\"1\" class=\"dataframe\">\n",
       "  <thead>\n",
       "    <tr style=\"text-align: right;\">\n",
       "      <th></th>\n",
       "      <th>Borough</th>\n",
       "      <th>avg ratio(2024:2004)</th>\n",
       "    </tr>\n",
       "  </thead>\n",
       "  <tbody>\n",
       "    <tr>\n",
       "      <th>0</th>\n",
       "      <td>City of London</td>\n",
       "      <td>2.693745</td>\n",
       "    </tr>\n",
       "    <tr>\n",
       "      <th>1</th>\n",
       "      <td>Barking &amp; Dagenham</td>\n",
       "      <td>2.094519</td>\n",
       "    </tr>\n",
       "    <tr>\n",
       "      <th>2</th>\n",
       "      <td>Barnet</td>\n",
       "      <td>2.143511</td>\n",
       "    </tr>\n",
       "    <tr>\n",
       "      <th>3</th>\n",
       "      <td>Bexley</td>\n",
       "      <td>2.235050</td>\n",
       "    </tr>\n",
       "    <tr>\n",
       "      <th>4</th>\n",
       "      <td>Brent</td>\n",
       "      <td>2.233564</td>\n",
       "    </tr>\n",
       "  </tbody>\n",
       "</table>\n",
       "</div>"
      ],
      "text/plain": [
       "              Borough  avg ratio(2024:2004)\n",
       "0      City of London              2.693745\n",
       "1  Barking & Dagenham              2.094519\n",
       "2              Barnet              2.143511\n",
       "3              Bexley              2.235050\n",
       "4               Brent              2.233564"
      ]
     },
     "execution_count": 110,
     "metadata": {},
     "output_type": "execute_result"
    }
   ],
   "source": [
    "# Let's just rename the 'index' column as 'London_Borough', and the '0' column to '2018'.\n",
    "df_ratios.rename(columns={'index':'Borough', '2024/2004':'avg ratio(2024:2004)'}, inplace=True)\n",
    "df_ratios.head()"
   ]
  },
  {
   "cell_type": "code",
   "execution_count": 112,
   "metadata": {},
   "outputs": [
    {
     "name": "stdout",
     "output_type": "stream",
     "text": [
      "                 Borough  avg ratio(2024:2004)\n",
      "11               Hackney              2.702544\n",
      "0         City of London              2.693745\n",
      "32           Westminster              2.607167\n",
      "30        Waltham Forest              2.563755\n",
      "19  Kensington & Chelsea              2.430377\n",
      "18             Islington              2.427624\n",
      "22              Lewisham              2.427237\n",
      "13              Haringey              2.420554\n",
      "10             Greenwich              2.402282\n",
      "6                 Camden              2.401683\n",
      "33          Inner London              2.397135\n",
      "21               Lambeth              2.376345\n",
      "23                Merton              2.374048\n",
      "26  Richmond upon Thames              2.316329\n",
      "31            Wandsworth              2.315277\n"
     ]
    }
   ],
   "source": [
    "# Let's sort in descending order and select the top 15 boroughs.\n",
    "# Make a variable called top15, and assign it the result of calling sort_values() on df_ratios. \n",
    "top15 = df_ratios.sort_values(by='avg ratio(2024:2004)',ascending=False).head(15)\n",
    "print(top15)"
   ]
  },
  {
   "cell_type": "code",
   "execution_count": 116,
   "metadata": {},
   "outputs": [
    {
     "data": {
      "text/plain": [
       "[Text(0, 0, 'Hackney'),\n",
       " Text(1, 0, 'City of London'),\n",
       " Text(2, 0, 'Westminster'),\n",
       " Text(3, 0, 'Waltham Forest'),\n",
       " Text(4, 0, 'Kensington & Chelsea'),\n",
       " Text(5, 0, 'Islington'),\n",
       " Text(6, 0, 'Lewisham'),\n",
       " Text(7, 0, 'Haringey'),\n",
       " Text(8, 0, 'Greenwich'),\n",
       " Text(9, 0, 'Camden'),\n",
       " Text(10, 0, 'Inner London'),\n",
       " Text(11, 0, 'Lambeth'),\n",
       " Text(12, 0, 'Merton'),\n",
       " Text(13, 0, 'Richmond upon Thames'),\n",
       " Text(14, 0, 'Wandsworth')]"
      ]
     },
     "execution_count": 116,
     "metadata": {},
     "output_type": "execute_result"
    },
    {
     "data": {
      "image/png": "[encoded data removed]",
      "text/plain": [
       "<Figure size 640x480 with 1 Axes>"
      ]
     },
     "metadata": {},
     "output_type": "display_data"
    }
   ],
   "source": [
    "# Let's plot the boroughs that have seen the greatest changes in price.\n",
    "# Make a variable called ax. Assign it the result of filtering top15 on 'Borough' and '2018', then calling plot(), with\n",
    "# the parameter kind = 'bar'. \n",
    "ax = top15[['Borough','avg ratio(2024:2004)']].plot(kind='bar')\n",
    "\n",
    "ax.set_xticklabels(top15.Borough)"
   ]
  },
  {
   "cell_type": "markdown",
   "metadata": {
    "colab_type": "text",
    "id": "NzYUI7FxJpgv"
   },
   "source": [
    "### 4. Conclusion\n",
    "What can you conclude? Type out your conclusion below. \n",
    "\n",
    "**The ratio of average price in 2024 to average price in 2004 was calculated. Hackney has the maximum ratio. That means the price increase for housing is highest for Hackney from 2004 to 2024**\n",
    "\n",
    "Look back at your notebook. Think about how you might summarize what you have done, and prepare a quick presentation on it to your mentor at your next meeting. \n",
    "\n",
    "We hope you enjoyed this practical project. It should have consolidated your data hygiene and pandas skills by looking at a real-world problem involving just the kind of dataset you might encounter as a budding data scientist. Congratulations, and looking forward to seeing you at the next step in the course! "
   ]
  }
 ],
 "metadata": {
  "colab": {
   "collapsed_sections": [],
   "name": "Springboard Data Science Career Track Unit 4 Challenge - Tier 3 Complete .ipynb",
   "provenance": []
  },
  "kernelspec": {
   "display_name": "Python [conda env:base] *",
   "language": "python",
   "name": "conda-base-py"
  },
  "language_info": {
   "codemirror_mode": {
    "name": "ipython",
    "version": 3
   },
   "file_extension": ".py",
   "mimetype": "text/x-python",
   "name": "python",
   "nbconvert_exporter": "python",
   "pygments_lexer": "ipython3",
   "version": "3.12.7"
  }
 },
 "nbformat": 4,
 "nbformat_minor": 4
}
